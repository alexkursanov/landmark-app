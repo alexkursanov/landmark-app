{
 "cells": [
  {
   "cell_type": "code",
   "execution_count": 1,
   "id": "6a0cc7eb-4ea3-411f-9935-1ad75eab5a28",
   "metadata": {},
   "outputs": [],
   "source": [
    "import os\n",
    "import numpy as np\n",
    "import matplotlib.pyplot as plt\n",
    "import py_tps as tps\n",
    "from PIL import Image"
   ]
  },
  {
   "cell_type": "code",
   "execution_count": 2,
   "id": "43a054f8-b272-4681-8c42-0bbbcc5fcc30",
   "metadata": {},
   "outputs": [],
   "source": [
    "# Путь к папке с исходными изображениями и файлу *.TPS\n",
    "image_dir = '../data/raw/Ac_Fom_2022_WM'      # <- задать\n",
    "# Имя файла *.TPS\n",
    "tps_file_name = 'Ac_Fom2022WM_FL.TPS'         # <- задать"
   ]
  },
  {
   "cell_type": "code",
   "execution_count": 3,
   "id": "15220737-6592-451e-881b-ebce979dd891",
   "metadata": {},
   "outputs": [],
   "source": [
    "# Путь к папке где будут храниться обработанные изображения и файлу *.TPS для них\n",
    "new_image_dir = '../data/interin/Ac_Fom_2022_WM_scale'      # <- задать\n",
    "# Имя файла *.TPS\n",
    "new_tps_file_name = 'Ac_Fom2022WM_FL_scale.TPS'         # <- задать"
   ]
  },
  {
   "cell_type": "code",
   "execution_count": 4,
   "id": "64c7054c-1db3-4afa-8996-9c4333b175bd",
   "metadata": {},
   "outputs": [],
   "source": [
    "# Создание новой папки если её нет\n",
    "os.makedirs(new_image_dir, exist_ok=True)"
   ]
  },
  {
   "cell_type": "code",
   "execution_count": 5,
   "id": "9f378d23-83ef-4846-a5cf-a3ed6298998c",
   "metadata": {},
   "outputs": [
    {
     "name": "stdout",
     "output_type": "stream",
     "text": [
      "../data/raw/Ac_Fom_2022_WM/Ac_Fom2022WM_FL.TPS\n"
     ]
    }
   ],
   "source": [
    "# Путь к исходному файлу *.TPS (проверить, что путь правильный)\n",
    "tps_file_path = os.path.join(image_dir, tps_file_name)\n",
    "print(tps_file_path)"
   ]
  },
  {
   "cell_type": "code",
   "execution_count": 6,
   "id": "98eca608-3b7c-43a4-b90b-55bb12fe84f1",
   "metadata": {},
   "outputs": [],
   "source": [
    "# Загрузка всех данных из исходного *.TPS файла в переменную `tps_file`\n",
    "tps_file = tps.TPSFile.read_file(tps_file_path)"
   ]
  },
  {
   "cell_type": "code",
   "execution_count": 7,
   "id": "5cc3ac60-fca2-499e-856d-92c5007eb3bb",
   "metadata": {},
   "outputs": [
    {
     "name": "stdout",
     "output_type": "stream",
     "text": [
      "281\n"
     ]
    }
   ],
   "source": [
    "# Колличество записей в *.TPS файле бужет храниться в переменной `number_tps_file`\n",
    "number_tps_file = len(tps_file.images)\n",
    "print(number_tps_file)"
   ]
  },
  {
   "cell_type": "code",
   "execution_count": 8,
   "id": "d4fbef06-fedb-49f7-8a9d-a662a40df121",
   "metadata": {},
   "outputs": [
    {
     "name": "stdout",
     "output_type": "stream",
     "text": [
      "В папке ../data/raw/Ac_Fom_2022_WM найдены все файлы из Ac_Fom2022WM_FL.TPS\n"
     ]
    }
   ],
   "source": [
    "# Проверка, что все файлы изображений записанные в *.TPS есть в папке `image_dir`\n",
    "for i in range(number_tps_file):\n",
    "    if not(os.path.exists(os.path.join(image_dir, tps_file.images[i].image))):\n",
    "        print(f\"В папке {image_dir} нет файла {tps_file.images[i].image}\")\n",
    "else:\n",
    "    print(f\"В папке {image_dir} найдены все файлы из {tps_file_name}\")"
   ]
  },
  {
   "cell_type": "code",
   "execution_count": 9,
   "id": "f7eadcd9-ebdf-41c7-af15-0a348ff63ce8",
   "metadata": {},
   "outputs": [],
   "source": [
    "# Задание границы вокруг ландмарок для обрезки крыла\n",
    "border_zone = 100       # <- колличество пикселей вокруг ландмарков для обрезки изображения"
   ]
  },
  {
   "cell_type": "code",
   "execution_count": 10,
   "id": "113d690e-bc56-4e5c-b6b9-6df300944331",
   "metadata": {},
   "outputs": [],
   "source": [
    "# Пустой массив для хранения объектов tps\n",
    "image_tps_array = []\n",
    "\n",
    "# В цикле все фото перебираются и обрезаются по ландмаркам с заданной границей\n",
    "# Точки 20 и 21 выризаются и масштаб считается\n",
    "for index in range(number_tps_file):\n",
    "    # Загрузка фото и его перевод в массив numpy, определение размера в пиксилях\n",
    "    image = Image.open(os.path.join(image_dir, tps_file.images[index].image))\n",
    "    image_array = np.array(image)\n",
    "    image_shape = image_array.shape\n",
    "\n",
    "    # Загрузка ландмарок и их зеркальное отображение по вертикали\n",
    "    landmarks = tps_file.images[index].landmarks.points\n",
    "    landmarks_flip = np.zeros(landmarks.shape)\n",
    "    landmarks_flip[:,0] = landmarks[:,0]\n",
    "    landmarks_flip[:,1] = image_shape[0] - landmarks[:,1]\n",
    "\n",
    "    # Определение границ обрезки по мин и мак координатам ландмарок\n",
    "    min_landmarks_0 = min(landmarks_flip[:,0]-border_zone)\n",
    "    max_landmarks_0 = max(landmarks_flip[:,0]+border_zone)\n",
    "    min_landmarks_1 = min(landmarks_flip[:,1]-border_zone)\n",
    "    max_landmarks_1 = max(landmarks_flip[:,1]+border_zone)\n",
    "\n",
    "    # Обрезка фото, перевод в массив numpy, определение размера в пиксилях\n",
    "    image_new = image.crop((min_landmarks_0, min_landmarks_1, max_landmarks_0, max_landmarks_1))\n",
    "    image_array_new = np.array(image_new)\n",
    "    image_array_new_shape = image_array_new.shape\n",
    "\n",
    "    # Сохранение обрезанного фото в папку new_image_dir со старым именем + '_crop.JPG' \n",
    "    image_new = image_new.save(os.path.join(new_image_dir, tps_file.images[index].image + '_crop.JPG'))\n",
    "\n",
    "    # Масштабирование ландмарок на новый размер фото\n",
    "    landmarks_new = np.zeros(landmarks.shape)\n",
    "    landmarks_new[:,0] = landmarks_flip[:,0]-min_landmarks_0\n",
    "    landmarks_new[:,1] = landmarks_flip[:,1]-min_landmarks_1\n",
    "\n",
    "    # Обратное зеркальное отображение по вертикали для записи в новый файл *.TPS \n",
    "    landmarks_new_flip = np.zeros(landmarks.shape)\n",
    "    landmarks_new_flip[:,0] = landmarks_new[:,0]\n",
    "    landmarks_new_flip[:,1] = image_array_new_shape[0] - landmarks_new[:,1]\n",
    "\n",
    "    # Расчет масштаба и вырезания двух послених точек из массива ландмарок\n",
    "    length_pixels = np.sqrt((landmarks_new_flip[-2,0]-landmarks_new_flip[-1,0])**2 + (landmarks_new_flip[-2,1]-landmarks_new_flip[-1,1])**2)\n",
    "    scale = 10.0 / length_pixels\n",
    "\n",
    "    # Удаление последних двух точек\n",
    "    landmarks_for_tps = landmarks_new_flip.tolist()\n",
    "    landmarks_for_tps.pop()\n",
    "    landmarks_for_tps.pop()\n",
    "    landmarks_for_tps = np.array(landmarks_for_tps)\n",
    "\n",
    "    # Подготовка данных для записи в новый файл *.TPS\n",
    "    points = tps.TPSPoints(landmarks_for_tps)\n",
    "    image_tps = tps.TPSImage(tps_file.images[index].image + '_crop.JPG', landmarks=points, id_number=index, scale=scale)\n",
    "    image_tps_array.append(image_tps)\n",
    "\n",
    "# Записи в новый файл *.TPS    \n",
    "tps_file_new = tps.TPSFile(image_tps_array)\n",
    "tps_file_new.write_to_file(os.path.join(new_image_dir, new_tps_file_name))"
   ]
  },
  {
   "cell_type": "code",
   "execution_count": null,
   "id": "ec872f61-869b-485c-8409-dafd6f6b7354",
   "metadata": {},
   "outputs": [],
   "source": []
  }
 ],
 "metadata": {
  "kernelspec": {
   "display_name": "env",
   "language": "python",
   "name": "env"
  },
  "language_info": {
   "codemirror_mode": {
    "name": "ipython",
    "version": 3
   },
   "file_extension": ".py",
   "mimetype": "text/x-python",
   "name": "python",
   "nbconvert_exporter": "python",
   "pygments_lexer": "ipython3",
   "version": "3.11.5"
  }
 },
 "nbformat": 4,
 "nbformat_minor": 5
}
